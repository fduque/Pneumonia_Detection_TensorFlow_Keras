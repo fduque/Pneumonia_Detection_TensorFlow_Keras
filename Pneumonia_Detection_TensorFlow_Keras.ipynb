{
  "nbformat": 4,
  "nbformat_minor": 0,
  "metadata": {
    "colab": {
      "name": "Pneumonia_Detection_TensorFlow_Keras.ipynb",
      "provenance": [],
      "collapsed_sections": [],
      "machine_shape": "hm",
      "include_colab_link": true
    },
    "kernelspec": {
      "name": "python3",
      "display_name": "Python 3"
    }
  },
  "cells": [
    {
      "cell_type": "markdown",
      "metadata": {
        "id": "view-in-github",
        "colab_type": "text"
      },
      "source": [
        "<a href=\"https://colab.research.google.com/github/fduque/Pneumonia_Detection_TensorFlow_Keras/blob/master/Pneumonia_Detection_TensorFlow_Keras.ipynb\" target=\"_parent\"><img src=\"https://colab.research.google.com/assets/colab-badge.svg\" alt=\"Open In Colab\"/></a>"
      ]
    },
    {
      "cell_type": "markdown",
      "metadata": {
        "id": "joV3rIJ_gehx",
        "colab_type": "text"
      },
      "source": [
        "# Pneumonia Detection - Tensor Flow + Keras"
      ]
    },
    {
      "cell_type": "markdown",
      "metadata": {
        "id": "UaKyF1DThJ0w",
        "colab_type": "text"
      },
      "source": [
        "Based on project from : \n",
        "\n",
        "https://github.com/anjanatiha/Pneumonia-Detection-from-Chest-X-Ray-Images-with-Deep-Learning\n",
        "\n",
        "https://www.kaggle.com/paultimothymooney/chest-xray-pneumonia\n",
        "\n",
        "Credit to:\n",
        "\n",
        "https://github.com/anjanatiha/Pneumonia-Detection-from-Chest-X-Ray-Images-with-Deep-Learning/blob/master/code/Detection%20of%20Pneumonia%20from%20Chest%20X-Ray%20Images%201.0.0.3.ipynb\n",
        "\n",
        "https://github.com/kapilnchauhan77/Health-App/blob/master/Health_app.ipynb"
      ]
    },
    {
      "cell_type": "markdown",
      "metadata": {
        "id": "c1SkHzgJhP-P",
        "colab_type": "text"
      },
      "source": [
        "## 1.0 - Getting data"
      ]
    },
    {
      "cell_type": "code",
      "metadata": {
        "id": "cgV60rbwa8A1",
        "colab_type": "code",
        "outputId": "578798e7-f82a-4bd7-921f-9af513bbe720",
        "colab": {
          "base_uri": "https://localhost:8080/",
          "height": 122
        }
      },
      "source": [
        "import os\n",
        "import cv2\n",
        "import pickle\n",
        "import random\n",
        "import numpy as np\n",
        "import matplotlib.pyplot as plt\n",
        "\n",
        "from google.colab import drive\n",
        "drive.mount('/content/drive')"
      ],
      "execution_count": 0,
      "outputs": [
        {
          "output_type": "stream",
          "text": [
            "Go to this URL in a browser: https://accounts.google.com/o/oauth2/auth?client_id=947318989803-6bn6qk8qdgf4n4g3pfee6491hc0brc4i.apps.googleusercontent.com&redirect_uri=urn%3Aietf%3Awg%3Aoauth%3A2.0%3Aoob&scope=email%20https%3A%2F%2Fwww.googleapis.com%2Fauth%2Fdocs.test%20https%3A%2F%2Fwww.googleapis.com%2Fauth%2Fdrive%20https%3A%2F%2Fwww.googleapis.com%2Fauth%2Fdrive.photos.readonly%20https%3A%2F%2Fwww.googleapis.com%2Fauth%2Fpeopleapi.readonly&response_type=code\n",
            "\n",
            "Enter your authorization code:\n",
            "··········\n",
            "Mounted at /content/drive\n"
          ],
          "name": "stdout"
        }
      ]
    },
    {
      "cell_type": "markdown",
      "metadata": {
        "id": "hP2hPlxvmxym",
        "colab_type": "text"
      },
      "source": [
        "Downloading dataset from Kaggle"
      ]
    },
    {
      "cell_type": "code",
      "metadata": {
        "id": "72eZH2urhmZP",
        "colab_type": "code",
        "outputId": "219d2c18-5e16-444e-f60d-256a0e387280",
        "colab": {
          "base_uri": "https://localhost:8080/",
          "height": 68
        }
      },
      "source": [
        "\n",
        "os.environ['KAGGLE_USERNAME'] = \"\" \n",
        "os.environ['KAGGLE_KEY'] = \"\" \n",
        "!kaggle datasets download -d paultimothymooney/chest-xray-pneumonia"
      ],
      "execution_count": 0,
      "outputs": [
        {
          "output_type": "stream",
          "text": [
            "Downloading chest-xray-pneumonia.zip to /content\n",
            "100% 2.29G/2.29G [00:37<00:00, 43.0MB/s]\n",
            "100% 2.29G/2.29G [00:37<00:00, 65.8MB/s]\n"
          ],
          "name": "stdout"
        }
      ]
    },
    {
      "cell_type": "markdown",
      "metadata": {
        "id": "ggu1RXTemqTi",
        "colab_type": "text"
      },
      "source": [
        "Extracting ziped files"
      ]
    },
    {
      "cell_type": "code",
      "metadata": {
        "id": "Hm9VjK6NihNE",
        "colab_type": "code",
        "colab": {}
      },
      "source": [
        "from zipfile import ZipFile\n",
        "\n",
        "zf = ZipFile('chest-xray-pneumonia.zip', 'r')\n",
        "zf.extractall()\n",
        "zf.close()"
      ],
      "execution_count": 0,
      "outputs": []
    },
    {
      "cell_type": "code",
      "metadata": {
        "id": "2wHooyu0qoqe",
        "colab_type": "code",
        "colab": {}
      },
      "source": [
        "zf = ZipFile('chest_xray.zip', 'r')\n",
        "zf.extractall()\n",
        "zf.close()"
      ],
      "execution_count": 0,
      "outputs": []
    },
    {
      "cell_type": "markdown",
      "metadata": {
        "id": "h-U-JBVbm9Fv",
        "colab_type": "text"
      },
      "source": [
        "Setting paths in Gdrive"
      ]
    },
    {
      "cell_type": "code",
      "metadata": {
        "id": "NlV_sZ-sikTI",
        "colab_type": "code",
        "colab": {}
      },
      "source": [
        "file_path_train = \"/content/chest_xray/train\"\n",
        "file_path_test = \"/content/chest_xray/test\"\n",
        "file_path_val = \"/content/chest_xray/val\"\n",
        "categories = ['NORMAL','PNEUMONIA']\n",
        "img_size = 299"
      ],
      "execution_count": 0,
      "outputs": []
    },
    {
      "cell_type": "markdown",
      "metadata": {
        "id": "EUVdqFzknCKP",
        "colab_type": "text"
      },
      "source": [
        "Function to send data to Gdrive"
      ]
    },
    {
      "cell_type": "code",
      "metadata": {
        "id": "a5lf3vbDjdsj",
        "colab_type": "code",
        "colab": {}
      },
      "source": [
        "\n",
        "def get_data(file_path, categories, img_size):\n",
        "    data = []\n",
        "    for category in categories:\n",
        "        c = categories.index(category)\n",
        "        img_path = os.path.join(file_path, category)\n",
        "        for img in os.listdir(img_path):\n",
        "            try:\n",
        "                a = cv2.imread(os.path.join(img_path, img))\n",
        "                a = cv2.resize(a, (img_size, img_size))\n",
        "                data.append([a, c])\n",
        "            except Exception as e:\n",
        "                pass\n",
        "    return data"
      ],
      "execution_count": 0,
      "outputs": []
    },
    {
      "cell_type": "markdown",
      "metadata": {
        "id": "JSNf9NmonJsj",
        "colab_type": "text"
      },
      "source": [
        ""
      ]
    },
    {
      "cell_type": "code",
      "metadata": {
        "id": "Puqr5b5Zji_4",
        "colab_type": "code",
        "colab": {}
      },
      "source": [
        "d_train = get_data(file_path_train, categories, img_size)\n",
        "d_test = get_data(file_path_test, categories, img_size)\n",
        "d_val = get_data(file_path_val, categories, img_size)"
      ],
      "execution_count": 0,
      "outputs": []
    },
    {
      "cell_type": "code",
      "metadata": {
        "id": "NEzuhqlVslAl",
        "colab_type": "code",
        "colab": {}
      },
      "source": [
        "random.shuffle(d_train)\n",
        "random.shuffle(d_test)\n",
        "random.shuffle(d_val)"
      ],
      "execution_count": 0,
      "outputs": []
    },
    {
      "cell_type": "code",
      "metadata": {
        "id": "Ia5jvxsPsniE",
        "colab_type": "code",
        "colab": {}
      },
      "source": [
        "x_train = []\n",
        "x_test = []\n",
        "x_val = []\n",
        "\n",
        "y_train = []\n",
        "y_test = []\n",
        "y_val = []"
      ],
      "execution_count": 0,
      "outputs": []
    },
    {
      "cell_type": "code",
      "metadata": {
        "id": "G6q_I1ZWspWU",
        "colab_type": "code",
        "colab": {}
      },
      "source": [
        "def spit_x_y(x, y, d):\n",
        "    for i in d:\n",
        "        x.append(i[0])\n",
        "        y.append(i[1])"
      ],
      "execution_count": 0,
      "outputs": []
    },
    {
      "cell_type": "code",
      "metadata": {
        "id": "eVSiC1tysrqG",
        "colab_type": "code",
        "colab": {}
      },
      "source": [
        "\n",
        "spit_x_y(x_train, y_train, d_train)\n",
        "spit_x_y(x_test, y_test, d_test)\n",
        "spit_x_y(x_val, y_val, d_val)"
      ],
      "execution_count": 0,
      "outputs": []
    },
    {
      "cell_type": "code",
      "metadata": {
        "id": "I51u2oqNsuuQ",
        "colab_type": "code",
        "colab": {}
      },
      "source": [
        "n1 = random.randint(0,800)\n",
        "plt.imshow(x_train[n1])\n",
        "print(categories[y_train[n1]])"
      ],
      "execution_count": 0,
      "outputs": []
    },
    {
      "cell_type": "code",
      "metadata": {
        "id": "zxvmKHfNs9-T",
        "colab_type": "code",
        "colab": {}
      },
      "source": [
        "n2 = random.randint(0,800)\n",
        "plt.imshow(x_train[n2])\n",
        "print(categories[y_train[n2]])"
      ],
      "execution_count": 0,
      "outputs": []
    },
    {
      "cell_type": "code",
      "metadata": {
        "id": "JhYreTGNtA-n",
        "colab_type": "code",
        "colab": {}
      },
      "source": [
        "def nump_con(x):\n",
        "    x = np.array(x)\n",
        "    x = x.reshape(-1, img_size, img_size, 3)\n",
        "    return x"
      ],
      "execution_count": 0,
      "outputs": []
    },
    {
      "cell_type": "code",
      "metadata": {
        "id": "adP7J_vVtDag",
        "colab_type": "code",
        "colab": {}
      },
      "source": [
        "\n",
        "x_train = nump_con(x_train)\n",
        "x_test = nump_con(x_test)\n",
        "x_val = nump_con(x_val)"
      ],
      "execution_count": 0,
      "outputs": []
    },
    {
      "cell_type": "code",
      "metadata": {
        "id": "S7OBH5XVtJ8s",
        "colab_type": "code",
        "colab": {}
      },
      "source": [
        "\n",
        "pkl = open('x_train', 'wb')\n",
        "pickle.dump(x_train, pkl)\n",
        "pkl.close()\n",
        "\n",
        "pkl = open('y_train', 'wb')\n",
        "pickle.dump(y_train, pkl)\n",
        "pkl.close()\n",
        "\n",
        "pkl = open('x_test', 'wb')\n",
        "pickle.dump(x_test, pkl)\n",
        "pkl.close()\n",
        "\n",
        "pkl = open('y_test', 'wb')\n",
        "pickle.dump(y_test, pkl)\n",
        "pkl.close()\n",
        "\n",
        "pkl = open('x_val', 'wb')\n",
        "pickle.dump(x_val, pkl)\n",
        "pkl.close()\n",
        "\n",
        "pkl = open('y_val', 'wb')\n",
        "pickle.dump(y_val, pkl)\n",
        "pkl.close()\n",
        "\n"
      ],
      "execution_count": 0,
      "outputs": []
    },
    {
      "cell_type": "code",
      "metadata": {
        "id": "71-smzwftWFS",
        "colab_type": "code",
        "colab": {}
      },
      "source": [
        "%who"
      ],
      "execution_count": 0,
      "outputs": []
    },
    {
      "cell_type": "markdown",
      "metadata": {
        "id": "yDGiuVxBx8Ms",
        "colab_type": "text"
      },
      "source": [
        "Removing some features"
      ]
    },
    {
      "cell_type": "code",
      "metadata": {
        "id": "i95t4ZOgtbiK",
        "colab_type": "code",
        "colab": {}
      },
      "source": [
        "del categories, cv2, d_test, d_train, d_val, plt, file_path_test, file_path_train, n1, n2, file_path_val, get_data, img_size, np, nump_con, os, pickle, pkl, spit_x_y, x_test, x_train, x_val, y_test, y_train, y_val, random, ZipFile, drive, zf"
      ],
      "execution_count": 0,
      "outputs": []
    },
    {
      "cell_type": "markdown",
      "metadata": {
        "id": "V1r0hQWkyDmy",
        "colab_type": "text"
      },
      "source": [
        ""
      ]
    },
    {
      "cell_type": "code",
      "metadata": {
        "id": "ITOoTrKEyERp",
        "colab_type": "code",
        "colab": {}
      },
      "source": [
        "import time\n",
        "import pickle\n",
        "import numpy as np\n",
        "import tensorflow as tf\n",
        "from tensorflow.keras.models import Sequential, Model\n",
        "from tensorflow.keras.callbacks import TensorBoard, ModelCheckpoint\n",
        "from tensorflow.keras.layers import Dropout, BatchNormalization, Dense, Flatten, Activation"
      ],
      "execution_count": 0,
      "outputs": []
    },
    {
      "cell_type": "code",
      "metadata": {
        "id": "jydnV8i8yJiN",
        "colab_type": "code",
        "colab": {}
      },
      "source": [
        "layer_sizes = [32]\n",
        "activation_layers = [1]\n",
        "dense_layers = [1]"
      ],
      "execution_count": 0,
      "outputs": []
    },
    {
      "cell_type": "code",
      "metadata": {
        "id": "yMc1_z-oyN_7",
        "colab_type": "code",
        "colab": {}
      },
      "source": [
        "with open('x_train', 'rb+') as f:\n",
        "    x_train = pickle.load(f)\n",
        "\n",
        "with open('y_train', 'rb+') as f:\n",
        "    y_train = pickle.load(f)\n",
        "\n",
        "with open('x_test', 'rb+') as f:\n",
        "    x_test = pickle.load(f)\n",
        "\n",
        "with open('y_test', 'rb+') as f:\n",
        "    y_test = pickle.load(f)\n",
        "    \n",
        "with open('x_val', 'rb+') as f:\n",
        "    x_val = pickle.load(f)\n",
        "\n",
        "with open('y_val', 'rb+') as f:\n",
        "    y_val = pickle.load(f)\n",
        "    \n",
        "y_train = np.array(y_train)\n",
        "y_test = np.array(y_test)\n",
        "y_val = np.array(y_val)\n",
        "\n",
        "x_train = x_train/255\n",
        "x_test = x_test/255\n",
        "x_val = x_val/255"
      ],
      "execution_count": 0,
      "outputs": []
    },
    {
      "cell_type": "code",
      "metadata": {
        "id": "OMYG5EuJyRfc",
        "colab_type": "code",
        "colab": {}
      },
      "source": [
        "model = tf.keras.applications.inception_v3.InceptionV3(include_top=True, weights='imagenet', input_tensor=None, input_shape=None, pooling=None, classes=1000)\n",
        "end = model.get_layer('avg_pool')\n",
        "for i in range(model.layers.index(end)):\n",
        "\tmodel.layers[i].trainable = False\n",
        "\n",
        "rmodel = Model(model.input, end.output)"
      ],
      "execution_count": 0,
      "outputs": []
    },
    {
      "cell_type": "code",
      "metadata": {
        "id": "3uLQjMjMyURA",
        "colab_type": "code",
        "colab": {}
      },
      "source": [
        "\n",
        "import os\n",
        "os.mkdir('models')\n",
        "os.mkdir('logs')"
      ],
      "execution_count": 0,
      "outputs": []
    },
    {
      "cell_type": "code",
      "metadata": {
        "id": "9GF5oochyXGe",
        "colab_type": "code",
        "colab": {}
      },
      "source": [
        "!pip install -q tf-nightly-2.0-preview\n",
        "%load_ext tensorboard"
      ],
      "execution_count": 0,
      "outputs": []
    },
    {
      "cell_type": "code",
      "metadata": {
        "id": "St8mXQM9yZR3",
        "colab_type": "code",
        "colab": {}
      },
      "source": [
        "%tensorboard --logdir=logs/\n"
      ],
      "execution_count": 0,
      "outputs": []
    },
    {
      "cell_type": "code",
      "metadata": {
        "id": "XYfV7aqMyb-2",
        "colab_type": "code",
        "colab": {}
      },
      "source": [
        "for layer_size in layer_sizes:\n",
        "  for activation_layer in activation_layers:\n",
        "    for dense_layer in dense_layers:\n",
        "\n",
        "      NM = f\"layer_size-{layer_size}, activation_layers-{activation_layer}, n_dense_layers-{dense_layer}-{time.time()}\"\n",
        "      tensorboard = TensorBoard(log_dir=f'logs/{NM}')\n",
        "\n",
        "      model = Sequential()\n",
        "      model.add(rmodel)\n",
        "\n",
        "      model._layers[1].trainable = False\n",
        "\n",
        "      for j in range(activation_layer):\n",
        "        model.add(Activation('relu'))\n",
        "    \n",
        "      model.add(Flatten())\n",
        "\n",
        "      for k in range(dense_layer):\n",
        "        model.add(Dense(layer_size))\n",
        "        model.add(Activation('relu'))\n",
        "        model.add(Dropout(0.4))\n",
        "\n",
        "      model.add(Dense(2))\n",
        "      model.add(Activation(\"softmax\"))\n",
        "\n",
        "      opt = tf.keras.optimizers.Adam(lr=1e-3, decay=1e-6)\n",
        "\n",
        "      model.compile(loss='sparse_categorical_crossentropy', optimizer=opt, metrics=['accuracy'])\n",
        "\n",
        "      file_path = \"Health_app-{epoch:0.2f}-{val_loss:.3f}\"\n",
        "      model_checkpoint = ModelCheckpoint(f'models/{file_path}', monitor='val_loss', verbose=1, save_best_only=False, save_weights_only=False, mode='auto', period=1)\n",
        "\n",
        "      model.fit(x_train, y_train, epochs=100, batch_size=64, validation_data=(x_test, y_test), callbacks=[tensorboard, model_checkpoint])"
      ],
      "execution_count": 0,
      "outputs": []
    },
    {
      "cell_type": "code",
      "metadata": {
        "id": "A4pv6T12yglc",
        "colab_type": "code",
        "colab": {}
      },
      "source": [
        "%who\n"
      ],
      "execution_count": 0,
      "outputs": []
    },
    {
      "cell_type": "code",
      "metadata": {
        "id": "YH1uTJPXyhB6",
        "colab_type": "code",
        "colab": {}
      },
      "source": [
        "del model\n"
      ],
      "execution_count": 0,
      "outputs": []
    },
    {
      "cell_type": "code",
      "metadata": {
        "id": "DtB19OulyjJB",
        "colab_type": "code",
        "colab": {}
      },
      "source": [
        "model = tf.keras.applications.inception_v3.InceptionV3(include_top=True, weights='imagenet', input_tensor=None, input_shape=None, pooling=None, classes=1000)\n",
        "end = model.get_layer('avg_pool')\n",
        "for i in range(model.layers.index(end)):\n",
        "\tmodel.layers[i].trainable = False\n",
        "\n",
        "rmodel = Model(model.input, end.output)"
      ],
      "execution_count": 0,
      "outputs": []
    },
    {
      "cell_type": "code",
      "metadata": {
        "id": "v2ga9J4hynP8",
        "colab_type": "code",
        "colab": {}
      },
      "source": [
        "model = Sequential()\n",
        "model.add(rmodel)\n",
        "model.add(Activation('relu'))\n",
        "model.add(Flatten())\n",
        "model.add(Dense(layer_size))\n",
        "model.add(Activation('relu'))\n",
        "model.add(Dropout(0.4))\n",
        "model.add(Dense(2))\n",
        "model.add(Activation(\"softmax\"))\n",
        "model.load_weights(\"/content/Health_app-29.00-0.699\")\n",
        "opt = tf.keras.optimizers.Adam(lr=1e-3, decay=1e-6)\n",
        "model.compile(loss='sparse_categorical_crossentropy', optimizer=opt, metrics=['accuracy'])"
      ],
      "execution_count": 0,
      "outputs": []
    },
    {
      "cell_type": "code",
      "metadata": {
        "id": "cFZqhmsCypkg",
        "colab_type": "code",
        "colab": {}
      },
      "source": [
        "scores = model.evaluate(x_val, y_val, verbose=1)\n",
        "print(\"%s: %.2f%%\" % (model.metrics_names[1], scores[1]*100))"
      ],
      "execution_count": 0,
      "outputs": []
    },
    {
      "cell_type": "code",
      "metadata": {
        "id": "3ZIMmYQOyrfT",
        "colab_type": "code",
        "colab": {}
      },
      "source": [
        "import random\n",
        "import numpy as np\n",
        "import matplotlib.pyplot as plt\n",
        "n1 = random.randint(0,9)\n",
        "plt.imshow(x_val[n1])\n",
        "print(f'Predicted: {categories[np.argmax(model.predict(x_val)[n1])]}')\n",
        "print(f'Real value: {categories[y_val[n1]]}')"
      ],
      "execution_count": 0,
      "outputs": []
    },
    {
      "cell_type": "code",
      "metadata": {
        "id": "Youx-Sznyut7",
        "colab_type": "code",
        "colab": {}
      },
      "source": [
        "n2 = random.randint(0,9)\n",
        "plt.imshow(x_val[n2])\n",
        "print(f'Predicted: {categories[np.argmax(model.predict(x_val)[n2])]}')\n",
        "print(f'Real value: {categories[y_val[n2]]}')"
      ],
      "execution_count": 0,
      "outputs": []
    },
    {
      "cell_type": "markdown",
      "metadata": {
        "id": "bgNP8E4_yyxj",
        "colab_type": "text"
      },
      "source": [
        "Checking all images in validation dataset"
      ]
    },
    {
      "cell_type": "code",
      "metadata": {
        "id": "RQS3f-2dy2CW",
        "colab_type": "code",
        "colab": {}
      },
      "source": [
        "for i in range(0,9):\n",
        "  plt.imshow(x_val[i])\n",
        "  print(f'Predicted: {categories[np.argmax(model.predict(x_val)[i])]}')\n",
        "  print(f'Real value: {categories[y_val[i]]}')\n",
        "  plt.show()"
      ],
      "execution_count": 0,
      "outputs": []
    }
  ]
}